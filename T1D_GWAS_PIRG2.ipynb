{
 "cells": [
  {
   "cell_type": "markdown",
   "metadata": {},
   "source": [
    "# PIR Génétique - UEG2: Génétique des populations et épidémiologie génétique"
   ]
  },
  {
   "cell_type": "markdown",
   "metadata": {},
   "source": [
    "## **TP: Étude d'association pan-génomique dans le diabète de type 1**\n",
    "\n",
    "*Claire Vandiedonck - 2022*\n",
    "\n",
    "> 0. Synopsis\n",
    "> 1. Première partie: Format de fichiers de génétique et découverte du logiciel PLINK\n",
    "> 2. Deuxième partie: Statistiques descriptives et QC\n",
    "> 3. Troisième partie: Analyse d'association génétique cas-contrôles\n",
    "> 4. Quatrième partie: Analyse d'association familiale"
   ]
  },
  {
   "cell_type": "markdown",
   "metadata": {},
   "source": [
    "## Avant d'aller plus loin\n",
    "---\n",
    "<div class=\"alert alert-block alert-danger\"><b>Attention:</b> \n",
    "Ne travaillez pas directement sur ce notebook pour ne pas le perdre. Dupliquez-le et renommez-le par exemple en ajoutant vos initiales et travaillez sur cette nouvelle copie. Pour ce faire, dans le panneau de gauche, faites un clic droit sur le fichier et sélectionnez \"Duplicate\". Puis, toujours dans la colonne de gauche, faites un clic droit sur cette copie et sélectionnez \"rename\" pour changer le nom. Ouvrez ensuite cette nouvelle version en double cliquant dessus. Vous êtes prêt(e) à démarrer! <br>\n",
    "<br>\n",
    "<b>N'oubliez pas de sauvegarder régulièrement votre notebook</b>: <kbd>Ctrl</kbd> + <kbd>S</kbd>. ou en cliquant sur l'icone 💾 en haut à gauche de votre notebook ou dans le Menu du JupyterLab \"File puis \"Save Notebook\"!\n",
    "</div>"
   ]
  },
  {
   "cell_type": "markdown",
   "metadata": {},
   "source": [
    "<div class=\"alert alert-block alert-info\"> \n",
    "   \n",
    "<b>Rappel :</b> Vous pouvez prendre des notes directement dans ce notebook, en ajoutant une cellule Markdown en cliquant sur l'icône <kbd>➕</kbd> dans la barre des menus, et en choisissant son format dans le menu déroulant. \n",
    "Les astuces pour utiliser les cellules des notebooks sont rappelées tout en bas dans un cadre bleu ⏬.\n",
    "</div>"
   ]
  },
  {
   "cell_type": "markdown",
   "metadata": {},
   "source": [
    "Dans ce TP, vous lancerez chaque cellule l'une après l'autre dans l'ordre. Si vous revenez en arrière et rééxécuter une cellule, veillez à relancer les suivantes. Les cellules sont numérotées dans leur ordre d'éxécution."
   ]
  },
  {
   "cell_type": "markdown",
   "metadata": {},
   "source": [
    "__*=> A propos de ce jupyter notebook*__\n",
    "\n",
    "Pour ce TP, nous aurons besoin d'éxécuter du code **bash** et **R**. Nous allons utiliser un notebook avec un noyau **python** et indiquer que les cellules doivent être éxécutées en bash (natif) en ajoutant `%%bash` au début de chaque cellule, et en ajoutant `%%R` au début de chaque cellule `R` après avoir installé et chargé `Rpy2` au début du notebook. Cela restera très lisible.\n",
    "\n",
    "Avant de commencer, nous devons donc charger le module `Rpy2` avec la commande suivante."
   ]
  },
  {
   "cell_type": "code",
   "execution_count": null,
   "metadata": {},
   "outputs": [],
   "source": [
    "# cell 1\n",
    "%load_ext rpy2.ipython"
   ]
  },
  {
   "cell_type": "markdown",
   "metadata": {},
   "source": [
    "Vous pouvez éxécuter cette commande python pour connaître votre répertoire de travail."
   ]
  },
  {
   "cell_type": "code",
   "execution_count": null,
   "metadata": {},
   "outputs": [],
   "source": [
    "# cell 2\n",
    "import os \n",
    "os.getcwd()"
   ]
  },
  {
   "cell_type": "markdown",
   "metadata": {},
   "source": [
    "<div class=\"alert alert-block alert-warning\"><b>Le résultat devrait ressembler à :</b>\"/srv/home/mylogin/pir_g2_gwas\" avec votre login. Si ce n'est pas le cas, changez de répertoire avec la commande \"os.chdir('path')\" ou applez votre enseignant à l'aide!</div>"
   ]
  },
  {
   "cell_type": "markdown",
   "metadata": {},
   "source": [
    "Pour lister ce qu'il contient, vous pouvez tenter avec les 3 langages:\n",
    "- en python: la commande affichera aussi les fichiers cachés commençant par un `.`."
   ]
  },
  {
   "cell_type": "code",
   "execution_count": null,
   "metadata": {},
   "outputs": [],
   "source": [
    "# cell 3\n",
    "os.listdir()"
   ]
  },
  {
   "cell_type": "markdown",
   "metadata": {},
   "source": [
    "- en bash:"
   ]
  },
  {
   "cell_type": "code",
   "execution_count": null,
   "metadata": {},
   "outputs": [],
   "source": [
    "%%bash\n",
    "# cell 4\n",
    "ls"
   ]
  },
  {
   "cell_type": "markdown",
   "metadata": {},
   "source": [
    "- en R:"
   ]
  },
  {
   "cell_type": "code",
   "execution_count": null,
   "metadata": {},
   "outputs": [],
   "source": [
    "%%R\n",
    "# cell 5\n",
    "list.files()"
   ]
  },
  {
   "cell_type": "markdown",
   "metadata": {},
   "source": [
    "\n",
    "## **0 - Synopsis**\n",
    "---\n",
    "### Objectifs du TP\n",
    "\n",
    "Dans ce TP, vous allez réaliser une étude d’association génétique dans le diabète de type 1 (DT1) dans une cohorte française au moyen d’outils informatiques et statistiques (Marees  AT et al., 2018).\n",
    "Les sujets d'étude proviennent d'une série de patients atteints de diabète de type 1 et de contrôles sains. Tous les échantillons ont été génotypés au moyen de la puce Illumina immunochip (Trynka et al., 2011, Parkes M. et al., 2013). Au cours de ces séances de TP, vous serez amenés à:\n",
    "- comprendre le format des fichiers de génotypage pour les logiciels d'analyse génétique\n",
    "- effectuer des contrôles de qualité\n",
    "- nettoyer/filtrer les données\n",
    "- réaliser l'étude d'association pangénomique de type cas/contrôles et de type familial\n",
    "- interpréter vos résultats en comparaison avec les articles publiés par le Type 1 Diabetes Genetics Consortium (Onengut-Gumuscu  S, et al., 2015, Robertson CC et al., 2021)."
   ]
  },
  {
   "cell_type": "markdown",
   "metadata": {
    "tags": []
   },
   "source": [
    "## **I. Première partie: format de fichiers de génétique et découverte du logiciel PLINK** *(~1 heure)*\n",
    "---\n",
    "    \n",
    "### **I.A. Le logiciel PLINK**\n",
    "\n",
    "Pour réaliser l'étude d'association, vous devrez préparer les fichiers sous un format utilisable par les logiciels de génétique. Le principal logiciel que vous utiliserez est **PLINK**: http://zzz.bwh.harvard.edu/plink/.\n",
    "\n",
    "En plus de permettre des analyses d'association, ce logiciel permet de manier les fichiers de génétique, de faire des sélections et filtrages, et de réaliser certains contrôles de qualité. Il est mondialement reconnu comme un des meilleurs outils pour réaliser des GWAS.\n",
    "Ce logiciel libre existe en versions windows, mac et unix.\n",
    "Le tutoriel (http://zzz.bwh.harvard.edu/plink/tutorial.shtml) est très détaillé et donne de nombreux exemples.\n",
    "\n",
    "Ce logiciel a été développé par Shaun Purcell. Il avait alors une double affiliation au Center for Human Genetic Research (CHGR), Massachusetts General Hospital (MGH) et au Broad Institute of Harvard & MIT.  Il est désormais chef de son labo (http://zzz.bwh.harvard.edu/index.html) basé au Brigham & Women's Hospital, affilié à la Harvard Medical School. La version originale actuelle présente sur son site web est la version v1.07 (10-Oct-2009).\n",
    "\n",
    "Il existe à présent une nouvelle version beta **PLINK 1.9** dont l'objectif est principalement d'améliorer la vitesse et la fonctionnalité pour de très gros jeux de données. Ouvrez le lien \"https://www.cog-genomics.org/plink2. Elle a été principalement développée par  par Christopher Chang at Human Longevity, Inc., par Carson Chow and Shashaank Vattikuti at the NIH-NIDDK's Laboratory of Biological Modeling, Laurent Tellier at the BGI Cognitive Genomics Lab, and James Lee at the University of Minnesota, with additional funding from the Purcell Lab at Mount Sinai School of Medicine du BGI Cognitive Genomics Lab! "
   ]
  },
  {
   "cell_type": "markdown",
   "metadata": {},
   "source": [
    "> Dans ce TP, vous utiliserez la version **PLINK 1.9** (https://www.cog-genomics.org/plink2) désormais stable (beta 6.24, 6 Jun 2021) qui a été installée sur adénine. Pour note, il existe une version PLINK2.0 en cours de développement."
   ]
  },
  {
   "cell_type": "markdown",
   "metadata": {},
   "source": [
    "<div class=\"alert alert-block alert-warning\"><b>En pratique</b><br>PLINK s'utilise en lignes de commandes « relativement simples ». \n",
    "La plupart des commandes sont les mêmes que dans la version historique 1.07. Vous pouvez retrouver à ce lien <a href=\"http://zzz.bwh.harvard.edu/plink/reference.shtml\"> </a>la liste de ces commandes.</div>"
   ]
  },
  {
   "cell_type": "markdown",
   "metadata": {},
   "source": [
    "### **I.B. Lancement de PLINK**"
   ]
  },
  {
   "cell_type": "markdown",
   "metadata": {},
   "source": [
    "Pour faire tourner PLINK sous Unix ou dans ce notebook, vous appelez d'abord le programme en tapant : `plink` dans une cellule **bash**. \n",
    "\n",
    "<span style=\"color:red\"><i>N'ayez pas peur de la boite rouge qui apparait. Cet affichage disparaitra quand les commandes seront complètes.</i></span>"
   ]
  },
  {
   "cell_type": "code",
   "execution_count": null,
   "metadata": {},
   "outputs": [],
   "source": [
    "%%bash\n",
    "## cell 6\n",
    "plink"
   ]
  },
  {
   "cell_type": "markdown",
   "metadata": {},
   "source": [
    "Le programme démarre et s'arrête avec une erreur car vous n'avez pas encore donné de fichiers d'entrée (*inputs*)."
   ]
  },
  {
   "cell_type": "markdown",
   "metadata": {},
   "source": [
    "> - Si vous travaillez **avec PLINK 1.07** au lieu de 1.9, PLINK va essayer de se connecter au réseau pour vérifier la version. Si vous voulez l'éviter, ajouter l'argument:`--noweb` avec la commande ```plink --noweb```\n",
    ">\n",
    ">- Si toutefois vous vouliez utiliser PLINK en dehors d'adenine, voici des conseils d'utilisation **sous Windows**:<br>\n",
    ">Vous devez utiliser le DOS en utilisant l'invite de commande (cmd.exe) ou, sur les dernières versions de windows, le \"windows power shell\" à partir du menu \"fichier\" de votre répertoire de travail.  Vos fichiers \"inputs\" doivent être placés dans le même répertoire (=dossier) que l'éxécutable de PLINK plink.exe.\n",
    ">Trois options s'offrent à vous, de la plus compliquée à la plus simple!:\n",
    ">\n",
    ">     **(1)** Dans le menu « Démarrer » de Windows, rechercher « cmd » puis indiquez le chemin du répertoire où est situé plink.exe (pour changer de répertoire, la commande est “cd”; pour passer au répertoire supérieur, taper “cd ..” ; vous pouvez utiliser la flèche de tabulation à gauche du clavier pour autocompléter les noms de dossiers)\n",
    "> \n",
    ">     **(2)** Alternativement, trouvez le fichier cmd.exe (en général dans Windows\\system 32; vous pouvez le trouver aussi dans les accessoires). Faire une copie que vous placez dans le dossier contenant plink.exe. Si vous double-cliquez alors sur cmd.exe dans ce répertoire, vous pouvez utiliser PLINK.\n",
    ">\n",
    ">     **(3)** Encore plus simplement, vous pouvez aussi créer en local un répertoire dans lequel vous mettrez tous vos documents du TP (fichiers d'input, d'output) ainsi que vos programmes. Copiez et collez l'executable plink.exe dans ce répertoire. Copiez et collez également l'exécutable de l'invite de commande cmd.exe dans ce répertoire. Si vous double-cliquez alors sur cmd.exe dans ce répertoire, vous pouvez utiliser PLINK.\n",
    ">\n",
    ">      Alternativement, si vous travaillez depuis windows power shell, il faut spécifier que plink est dans le répertoire de travail en tapant: .\\plink\n",
    "      "
   ]
  },
  {
   "cell_type": "markdown",
   "metadata": {},
   "source": [
    "### **I.C. Fichiers d'entrée**"
   ]
  },
  {
   "cell_type": "markdown",
   "metadata": {},
   "source": [
    "Commençons par nous familiariser avec l'utilisation avec des fichiers « test ».\n",
    "\n",
    "PLINK a besoin de <u>deux types de fichiers d'entrée.</u>\n",
    "\n",
    "- `.ped` pour le fichier de structure de pedigree\n",
    "- `.map` pour le fichier des marqueurs génotypés"
   ]
  },
  {
   "cell_type": "markdown",
   "metadata": {},
   "source": [
    "Dans le répertoire `input` de votre environnement jupyterlab, vous avez des fichiers d'entrée d'exemple avec le préfixe `test.`. Les fichiers sont aussi disponibles sur moodle."
   ]
  },
  {
   "cell_type": "markdown",
   "metadata": {},
   "source": [
    "##### **1. Exploration des fichiers d'entrée en dehors de PLINK**\n",
    "\n",
    "<span style=\"color:red\">Ouvrez-les en double cliquant dessus dans le jupyterlab </span> (ou avec un éditeur de texte comme notepad++ sous windows ou gedit sous unix si vous ne travaillez pas sur adénine).\n",
    "Cherchez des explications sur leur structure dans la documentation de PLINK à ce lien \"5. Basic usage/data formats\" (http://zzz.bwh.harvard.edu/plink/data.shtml)  du menu.\n",
    "\n"
   ]
  },
  {
   "cell_type": "markdown",
   "metadata": {},
   "source": [
    "<span style=\"color:blue\"><b>Q1.1</b><i>  Concernant le fichier de structure de <b>pedigree</b>:</i></span>\n",
    "    \n",
    "<span style=\"color:blue\"><i>- Combien de sujets ont été génotypés ?</i></span>"
   ]
  },
  {
   "cell_type": "markdown",
   "metadata": {},
   "source": [
    "Votre réponse..."
   ]
  },
  {
   "cell_type": "markdown",
   "metadata": {},
   "source": [
    "<span style=\"color:blue\"><i>- Sont-ils apparentés ? Ont-ils les mêmes parents ? Quelles colonnes vous donnent ces informations ?</i></span>"
   ]
  },
  {
   "cell_type": "markdown",
   "metadata": {},
   "source": [
    "Votre réponse..."
   ]
  },
  {
   "cell_type": "markdown",
   "metadata": {},
   "source": [
    "<span style=\"color:blue\"><i>- Quel est l'identifiant du 5ème sujet ? Est-il possible de le distinguer des autres sujets en considérant un identifiant unique ?</i></span>"
   ]
  },
  {
   "cell_type": "markdown",
   "metadata": {},
   "source": [
    "Votre réponse..."
   ]
  },
  {
   "cell_type": "markdown",
   "metadata": {},
   "source": [
    "<span style=\"color:blue\"><i>- Quel est le sexe des sujets ? Quelle colonne vous donne cette information ? Est-ce cohérent avec les autres colonnes ?</i></span>"
   ]
  },
  {
   "cell_type": "markdown",
   "metadata": {},
   "source": [
    "Votre réponse..."
   ]
  },
  {
   "cell_type": "markdown",
   "metadata": {},
   "source": [
    "<span style=\"color:blue\"><i>- Connaît-on leur statut vis-à-vis de la maladie ? Combien y a-t-il de cas et de contrôles ?</i></span>"
   ]
  },
  {
   "cell_type": "markdown",
   "metadata": {},
   "source": [
    "Votre réponse..."
   ]
  },
  {
   "cell_type": "markdown",
   "metadata": {},
   "source": [
    "<span style=\"color:blue\"><i>- Combien de marqueurs ont été génotypés pour ces sujets ?</i></span>"
   ]
  },
  {
   "cell_type": "markdown",
   "metadata": {},
   "source": [
    "Votre réponse..."
   ]
  },
  {
   "cell_type": "markdown",
   "metadata": {},
   "source": [
    "<span style=\"color:blue\"><i>- Combien de colonnes contiendraient un fichier de pedigree avec n marqueurs génotypés ?</i></span>"
   ]
  },
  {
   "cell_type": "markdown",
   "metadata": {},
   "source": [
    "Votre réponse..."
   ]
  },
  {
   "cell_type": "markdown",
   "metadata": {},
   "source": [
    "<span style=\"color:blue\"><b>Q1.2.</b><i> Concernant le fichier de <b>marqueurs</b> :</i></span>\n",
    "    \n",
    "<span style=\"color:blue\"><i>- Combien y-a-t-il de marqueurs dans ce fichier ? Est-ce en accord avec le fichier de pedigree ?</i></span>"
   ]
  },
  {
   "cell_type": "markdown",
   "metadata": {},
   "source": [
    "Votre réponse..."
   ]
  },
  {
   "cell_type": "markdown",
   "metadata": {},
   "source": [
    "<span style=\"color:blue\"><i>- Sur quels chromosomes sont-ils situés ?</i></span>"
   ]
  },
  {
   "cell_type": "markdown",
   "metadata": {},
   "source": [
    "Votre réponse..."
   ]
  },
  {
   "cell_type": "markdown",
   "metadata": {},
   "source": [
    "<span style=\"color:blue\"><i>- Connaissez-vous leur position physique ? A partir de quelle origine ?</i></span>"
   ]
  },
  {
   "cell_type": "markdown",
   "metadata": {},
   "source": [
    "Votre réponse..."
   ]
  },
  {
   "cell_type": "markdown",
   "metadata": {},
   "source": [
    "<span style=\"color:blue\"><i>- Connaissez-vous leur position génétique ?</i></span>"
   ]
  },
  {
   "cell_type": "markdown",
   "metadata": {},
   "source": [
    "Votre réponse..."
   ]
  },
  {
   "cell_type": "markdown",
   "metadata": {},
   "source": [
    "##### **2.  Chargement des fichiers dans PLINK**\n",
    "\n",
    "Nous allons à présent charger ces fichiers sans les modifier dans PLINK.<br> Il existe deux commandes possibles.\n",
    "\n",
    "1. ```plink --file input/test```\n",
    "\n",
    "ou\n",
    "\n",
    "2. ```plink --ped input/test.ped --map input/test.map```\n",
    "\n",
    "Dans la 1ère, nous utilisons l'argument `--file` qui nous permet de lire tous les fichiers inputs commençant par le préfixe `test` dans le répertoire `input`.\n",
    "Dans la 2nde commande, nous utilisons un argument pour chaque type de fichier input. Cette seconce commande est plus longue à taper mais permet de charger des inputs qui n'auraient pas le même préfixe.\n",
    "\n",
    "Exécutons ces 2 commandes l'une après l'autre. Elles retournent bien le même résultat. Une erreur apparaît dans les 2 cas. Elle était attendue. Nous reviendrons un peu plus bas sur cette erreur (partie I.E)."
   ]
  },
  {
   "cell_type": "code",
   "execution_count": null,
   "metadata": {},
   "outputs": [],
   "source": [
    "%%bash\n",
    "# cell 7\n",
    "#la premiere commande\n",
    "plink --file input/test"
   ]
  },
  {
   "cell_type": "markdown",
   "metadata": {},
   "source": [
    "Notez que vous avez obtenu un fichier texte de sortie `plink.log` que vous pouvez ouvrir en double cliquant dessus. Il contient tout ce qui s'est affiché à la suite de la commande jusqu'à la ligne d'erreur."
   ]
  },
  {
   "cell_type": "code",
   "execution_count": null,
   "metadata": {},
   "outputs": [],
   "source": [
    "%%bash\n",
    "# cell 8\n",
    "#la deuxième commande\n",
    "plink --ped input/test.ped --map input/test.map"
   ]
  },
  {
   "cell_type": "markdown",
   "metadata": {},
   "source": [
    "Le fichier texte `plink.log` a été mis à jour et contient l'affichage des options/argument de cette 2ème commande. Voyons immédiatement comment  spécifier un nom aux fichiers de sortie pour ne pas les écraser à chaque utilisation de PLINK."
   ]
  },
  {
   "cell_type": "markdown",
   "metadata": {},
   "source": [
    "### **I.D. Spécification des noms de fichier de sortie**"
   ]
  },
  {
   "cell_type": "markdown",
   "metadata": {},
   "source": [
    "A chaque commande PLINK, si vous spécifiez des arguments *(vrai aussi sans argument pour PLINK 1.07)*, des fichiers de sortie (*outputs*) sont automatiquement générés avec différentes extensions. En particulier, vous obtenez un fichier `.log` qui a sauvegardé tout ce qui s'était affiché dans votre terminal ou dans le notebook.\n",
    "\n",
    "Vous pouvez spécifier le préfixe de ces outputs avec l'argument `--out`.\n",
    "\n",
    "Dans PLINK, vous pouvez entrer plusieurs arguments à la suite sur la même ligne de commande. Si vous avez utilisé l'argument `-- out`, tous les autres outputs générés contiendront le même préfixe suivis de leur extension propre. On peut spécifier le répertoire dans lequel ils seront sauvergardés en indiquant le chemin.\n",
    "\n",
    "On réessaye avec les 2 commandes précédentes en spécifiant un préfixe aux fichiers d'output que nous sauvegarderons dans le répertoire `output`"
   ]
  },
  {
   "cell_type": "code",
   "execution_count": null,
   "metadata": {},
   "outputs": [],
   "source": [
    "%%bash\n",
    "# cell 9\n",
    "#la premiere commande avec la spécification de la sortie\n",
    "plink --file input/test --out output/first"
   ]
  },
  {
   "cell_type": "code",
   "execution_count": null,
   "metadata": {},
   "outputs": [],
   "source": [
    "%%bash\n",
    "# cell 10\n",
    "#la deuxième commande\n",
    "plink --ped input/test.ped --map input/test.map --out output/second"
   ]
  },
  {
   "cell_type": "markdown",
   "metadata": {},
   "source": [
    "Cette fois-ci, aucun fichier texte `plink.log` n'a été créé. Après la 1ère commande, un fichier `first.out` a été créé, après la seconde un fichier `second.out` a été créé. Ils sont dans le répertoire `output`. Vous pouvez les ouvrir. Notez qu'il contiennent désormais 2 lignes après « Options in effect ».\n",
    "\n",
    "Un autre fichier a été créé après chaque commande avec l'extension `.fam`. Vous pouvez noter qu'ils contiennent le début du fichier `test.ped` présent dans `input`. Ils sont incomplets car la commande a été interrompue par l'erreur."
   ]
  },
  {
   "cell_type": "markdown",
   "metadata": {},
   "source": [
    "### **I.E. Correspondance des fichiers d'input**"
   ]
  },
  {
   "cell_type": "markdown",
   "metadata": {},
   "source": [
    "<span style=\"color:blue\"><b>Q1.3.</b><i> Quelle erreur avez-vous rencontrée avec la 1ère et la 2ème commande ?</i></span>"
   ]
  },
  {
   "cell_type": "markdown",
   "metadata": {},
   "source": [
    "Votre réponse..."
   ]
  },
  {
   "cell_type": "markdown",
   "metadata": {},
   "source": [
    "On apprend désormais que le fichier de pedigree ne contenait les génotypes que de marqueurs autosomiques. On a nettoyé le fichier afin de ne garder que les marqeurs autosomiques. Il a été sauvegardé sous un autre nom (`autosomic.map` déjà dans le répertoire `input`).\n",
    "\n",
    "Chargez-le à présent dans PLINK avec le fichier de pedigree. On n'oublie-pas de changer le préfixe des sorties pour ne pas écraser le précédent fichier .log."
   ]
  },
  {
   "cell_type": "code",
   "execution_count": null,
   "metadata": {},
   "outputs": [],
   "source": [
    "%%bash\n",
    "# cell 11\n",
    "plink --ped input/test.ped --map input/autosomic.map --out output/autosomic"
   ]
  },
  {
   "cell_type": "markdown",
   "metadata": {},
   "source": [
    "<span style=\"color:blue\"><b>Q1.4.</b><i> Les informations obtenues sont-elles désormais cohérentes avec ce que vous savez?</i></span>"
   ]
  },
  {
   "cell_type": "markdown",
   "metadata": {},
   "source": [
    "Votre réponse..."
   ]
  },
  {
   "cell_type": "markdown",
   "metadata": {},
   "source": [
    "\n",
    "<div class=\"alert alert-block alert-warning\"><b>En pratique: </b><br> Cette structure de pedigree et de liste de marqueurs est utilisée par la plupart des logiciels de génétique. Il existe cependant quelques variantes, en particulier pour l'encodage des phénotypes parfois dans un troisième fichier, ou pour le fichier de marqueurs qui ne contient pas toujours la position.\n",
    "\n",
    "<b>L'ordre des colonnes des génotypes dans le fichier de pedigree doit toujours correspondre à l'ordre des marqueurs. Il est donc fondamental de bien formater ses fichiers !</b>\n",
    "</div>"
   ]
  },
  {
   "cell_type": "markdown",
   "metadata": {},
   "source": [
    "### **I.F. Fichiers binaires**\n",
    "\n",
    "PLINK peut travailler avec des formats de fichier de grande taille : nombreux sujets et nombreux génotypes.\n",
    "<br>\n",
    "- Dans ce cas, il existe une **version binaire des fichiers** moins gourmande en espace disque et en temps d'analyse. Consultez la section « Binary PED files » (http://zzz.bwh.harvard.edu/plink/data.shtml#bed) et effectuez la conversion des fichiers test en format binaire en sauvegardant les outputs avec le préfixe `mytest_bdata` avec la commande suivante utilisant l'argument `--make-bed`.\n"
   ]
  },
  {
   "cell_type": "code",
   "execution_count": null,
   "metadata": {},
   "outputs": [],
   "source": [
    "%%bash\n",
    "#cell 12\n",
    "plink --ped input/test.ped --map input/autosomic.map --make-bed --out output/mytest_bdata"
   ]
  },
  {
   "cell_type": "markdown",
   "metadata": {},
   "source": [
    "<span style=\"color:blue\"><b>Q1.5.</b><i>Concernant ce <b>format binaire</b> :</i></span>"
   ]
  },
  {
   "cell_type": "markdown",
   "metadata": {},
   "source": [
    "<span style=\"color:blue\"><i>- Quel fichier est converti en format réellement binaire ? Quelle est l'extension de ce fichier ?</i></span>"
   ]
  },
  {
   "cell_type": "markdown",
   "metadata": {},
   "source": [
    "Votre réponse..."
   ]
  },
  {
   "cell_type": "markdown",
   "metadata": {},
   "source": [
    "<span style=\"color:blue\"><i>- Quels autres fichiers ont été générés ? A quoi correspondent-ils ?</i></span>"
   ]
  },
  {
   "cell_type": "markdown",
   "metadata": {},
   "source": [
    "Votre réponse..."
   ]
  },
  {
   "cell_type": "markdown",
   "metadata": {},
   "source": [
    "<span style=\"color:blue\"><i>- Quelle information n'était pas dans le fichier .map et est désormais présente dans le fichier de marqueurs ?</i></span>"
   ]
  },
  {
   "cell_type": "markdown",
   "metadata": {},
   "source": [
    "Votre réponse..."
   ]
  },
  {
   "cell_type": "markdown",
   "metadata": {},
   "source": [
    "**- Pour lire avec PLINK les fichiers binaires** ainsi générés, on utilise l'argument `--bfile` comme dans la commande suivante (qui s'interrompt car aucune manipulation ni output spécifique en dehors du .log n'a été demandé):"
   ]
  },
  {
   "cell_type": "code",
   "execution_count": null,
   "metadata": {},
   "outputs": [],
   "source": [
    "%%bash\n",
    "# cell 13\n",
    "plink --bfile output/mytest_bdata --out output/load_mytest_bdata"
   ]
  },
  {
   "cell_type": "markdown",
   "metadata": {},
   "source": [
    "- Inversement, il existe un moyen de **convertir des données binaires en format non binaire** (cf. aide la section 6. Data management: http://zzz.bwh.harvard.edu/plink/dataman.shtml) avec l'argument `--recode`"
   ]
  },
  {
   "cell_type": "code",
   "execution_count": null,
   "metadata": {},
   "outputs": [],
   "source": [
    "%%bash\n",
    "# cell 14\n",
    "plink --bfile output/mytest_bdata --recode --out output/mytest_data"
   ]
  },
  {
   "cell_type": "markdown",
   "metadata": {},
   "source": [
    "<span style=\"color:red\"><i>Ne faites pas attention aux chiffres affichés dans la ligne commençant par \"Calculating allele frequencies\" si vous lisez le log directement sur le notebook. Cette même ligne a une apparence normale sans ces chiffres si vous lisez le fichier d'output `.log`.</i></span>"
   ]
  },
  {
   "cell_type": "markdown",
   "metadata": {},
   "source": [
    "<span style=\"color:blue\"><b>Q1.6.</b><i>Quelle différence observez vous entre le <b>nouveau fichier</b> `.ped` et le fichier `.ped` <b>initial</b> ?</i></span>"
   ]
  },
  {
   "cell_type": "markdown",
   "metadata": {},
   "source": [
    "Votre réponse..."
   ]
  },
  {
   "cell_type": "markdown",
   "metadata": {},
   "source": [
    "<div class=\"alert alert-block alert-warning\"><b>En résumé</b><br>\n",
    "Vous avez appris à:<br>\n",
    "    - identifier les commandes de base dans PLINK pour lire les fichiers d'inputs<br>\n",
    "    - ajouter un suffixe aux fichiers d'outputs<br>\n",
    "    - convertir les fichiers entre les formats plats et binaires.<br>\n",
    "    \n",
    "Le rappel de ces commandes, tiré de la liste des commandes PLINK disponibles à <a href=\"http://zzz.bwh.harvard.edu/plink/reference.shtml\">ce lien</a>, est résumé ci-dessous:<br>\n",
    "    \n",
    "\n",
    "<style type=\"text/css\">\n",
    ".tg  {border-collapse:collapse;border-spacing:0;}\n",
    ".tg td{border-color:black;border-style:solid;border-width:1px;font-family:Arial, sans-serif;font-size:14px;\n",
    "  overflow:hidden;padding:10px 5px;word-break:normal;}\n",
    ".tg th{border-color:black;border-style:solid;border-width:1px;font-family:Arial, sans-serif;font-size:14px;\n",
    "  font-weight:normal;overflow:hidden;padding:10px 5px;word-break:normal;}\n",
    ".tg .tg-0pky{border-color:inherit;text-align:left;vertical-align:top}\n",
    "</style>\n",
    "<table class=\"tg\">\n",
    "<thead>\n",
    "  <tr>\n",
    "    <th class=\"tg-0pky\">Option</th>\n",
    "    <th class=\"tg-0pky\">Parameter/default</th>\n",
    "    <th class=\"tg-0pky\">Description</th>\n",
    "  </tr>\n",
    "</thead>\n",
    "<tbody>\n",
    "  <tr>\n",
    "    <td class=\"tg-0pky\">Basic input/output</td>\n",
    "    <td class=\"tg-0pky\"></td>\n",
    "    <td class=\"tg-0pky\"></td>\n",
    "  </tr>\n",
    "  <tr>\n",
    "    <td class=\"tg-0pky\">--file</td>\n",
    "    <td class=\"tg-0pky\"> {plink}&nbsp;&nbsp;&nbsp;&nbsp;&nbsp;&nbsp;&nbsp;&nbsp;&nbsp;</td>\n",
    "    <td class=\"tg-0pky\">&nbsp;&nbsp;Specify .ped and .map files</td>\n",
    "  </tr>\n",
    "  <tr>\n",
    "    <td class=\"tg-0pky\">--ped</td>\n",
    "    <td class=\"tg-0pky\">&nbsp;&nbsp;{plink.ped}&nbsp;&nbsp;&nbsp;&nbsp;&nbsp;</td>\n",
    "    <td class=\"tg-0pky\">&nbsp;&nbsp;Specify .ped file</td>\n",
    "  </tr>\n",
    "  <tr>\n",
    "    <td class=\"tg-0pky\">--map</td>\n",
    "    <td class=\"tg-0pky\">&nbsp;&nbsp;{plink.map}&nbsp;&nbsp;&nbsp;&nbsp;&nbsp;</td>\n",
    "    <td class=\"tg-0pky\">&nbsp;&nbsp;Specify .map file</td>\n",
    "  </tr>\n",
    "  <tr>\n",
    "    <td class=\"tg-0pky\">--bfile</td>\n",
    "    <td class=\"tg-0pky\"> {plink}&nbsp;&nbsp;&nbsp;&nbsp;&nbsp;&nbsp;&nbsp;&nbsp;</td>\n",
    "    <td class=\"tg-0pky\">&nbsp;&nbsp;Specify .bed, .bim and .fam</td>\n",
    "  </tr>\n",
    "  <tr>\n",
    "    <td class=\"tg-0pky\">--bed</td>\n",
    "    <td class=\"tg-0pky\"> {plink.bed}&nbsp;&nbsp;&nbsp;&nbsp;&nbsp;&nbsp;&nbsp;&nbsp;&nbsp;&nbsp;&nbsp;</td>\n",
    "    <td class=\"tg-0pky\">&nbsp;&nbsp;Specify .bed file</td>\n",
    "  </tr>\n",
    "  <tr>\n",
    "    <td class=\"tg-0pky\">--bim</td>\n",
    "    <td class=\"tg-0pky\"> {plink.bim}&nbsp;&nbsp;&nbsp;&nbsp;&nbsp;&nbsp;&nbsp;&nbsp;&nbsp;&nbsp;&nbsp;</td>\n",
    "    <td class=\"tg-0pky\">&nbsp;&nbsp;Specify .bim file</td>\n",
    "  </tr>\n",
    "  <tr>\n",
    "    <td class=\"tg-0pky\">--fam</td>\n",
    "    <td class=\"tg-0pky\"> {plink.fam}&nbsp;&nbsp;&nbsp;&nbsp;&nbsp;&nbsp;&nbsp;&nbsp;&nbsp;&nbsp;&nbsp;</td>\n",
    "    <td class=\"tg-0pky\">&nbsp;&nbsp;Specify .fam file</td>\n",
    "  </tr>\n",
    "  <tr>\n",
    "    <td class=\"tg-0pky\">--out</td>\n",
    "    <td class=\"tg-0pky\"> {plink}&nbsp;&nbsp;&nbsp;&nbsp;&nbsp;&nbsp;&nbsp;&nbsp;&nbsp;&nbsp;</td>\n",
    "    <td class=\"tg-0pky\">&nbsp;&nbsp;Specify output root filename</td>\n",
    "  </tr>\n",
    "  <tr>\n",
    "    <td class=\"tg-0pky\">Other data management options</td>\n",
    "    <td class=\"tg-0pky\"></td>\n",
    "    <td class=\"tg-0pky\"></td>\n",
    "  </tr>\n",
    "  <tr>\n",
    "    <td class=\"tg-0pky\">--make-bed</td>\n",
    "    <td class=\"tg-0pky\">&nbsp;&nbsp;&nbsp;&nbsp;&nbsp;&nbsp;&nbsp;&nbsp;&nbsp;&nbsp;&nbsp;&nbsp;&nbsp;&nbsp;&nbsp;&nbsp;&nbsp;&nbsp;</td>\n",
    "    <td class=\"tg-0pky\">&nbsp;&nbsp;Make .bed, .fam and .bim</td>\n",
    "  </tr>\n",
    "  <tr>\n",
    "    <td class=\"tg-0pky\">--recode</td>\n",
    "    <td class=\"tg-0pky\">&nbsp;&nbsp;&nbsp;&nbsp;&nbsp;&nbsp;&nbsp;&nbsp;&nbsp;&nbsp;&nbsp;&nbsp;&nbsp;&nbsp;&nbsp;&nbsp;&nbsp;&nbsp;&nbsp;&nbsp;</td>\n",
    "    <td class=\"tg-0pky\">&nbsp;&nbsp;Output new .ped and .map files</td>\n",
    "  </tr>\n",
    "</tbody>\n",
    "</table>\n",
    "</div>"
   ]
  },
  {
   "cell_type": "markdown",
   "metadata": {},
   "source": [
    "<div class=\"alert alert-block alert-success\"><b>=> Bravo !</b><br>Vous avez fait un bel effort pour apprendre à utiliser PLINK avec les commandes de base. Vous êtes désormais prêts à travailler avec de vrais fichiers de patients (les cas) et de contrôles. Nettoyez juste avant le dossier « output » de ces fichiers d'entrainement (rm = remove) avec la commande suivante:</div>"
   ]
  },
  {
   "cell_type": "code",
   "execution_count": null,
   "metadata": {},
   "outputs": [],
   "source": [
    "%%bash\n",
    "# cell 15\n",
    "rm output/*"
   ]
  },
  {
   "cell_type": "markdown",
   "metadata": {},
   "source": [
    "## **II. Deuxième partie: Statistiques descriptives et QC** *(~ 45')*\n",
    "---\n",
    "    "
   ]
  },
  {
   "cell_type": "markdown",
   "metadata": {},
   "source": [
    "### **II.A. Lecture des fichiers du jeu de données de cas et contrôles**"
   ]
  },
  {
   "cell_type": "markdown",
   "metadata": {},
   "source": [
    "Les jeux de données des cas et des témoins ont été préalablement formattés et fusionnés pour obtenir un dataset unique directement utilisable par PLINK. "
   ]
  },
  {
   "cell_type": "markdown",
   "metadata": {},
   "source": [
    " Les fichiers ont les préfixes `t1dcc` (pour T1D Case Control). Les fichiers sont dans le répertoire `input` de votre environnement sauf le fichier `t1dcc.bed` qui était trop volumineux pour être préinstallé.\n",
    " Nous allons le copier dans votre répertoire `input`."
   ]
  },
  {
   "cell_type": "code",
   "execution_count": null,
   "metadata": {},
   "outputs": [],
   "source": [
    "%%bash\n",
    "# cell 16\n",
    "cp /srv/data/pir-g2/input/t1dcc.bed ./input"
   ]
  },
  {
   "cell_type": "markdown",
   "metadata": {},
   "source": [
    "Avec la version PLINK 1.9, il n'est pas possible de lire les fichiers d'inputs sans exécuter une commande sur ces fichiers. Utilisons-en une toute simple qui écrit la liste des SNPs `--write-snplist` sans modifier nos fichiers d'inputs."
   ]
  },
  {
   "cell_type": "code",
   "execution_count": null,
   "metadata": {},
   "outputs": [],
   "source": [
    "%%bash\n",
    "# cell 17\n",
    "plink --bfile input/t1dcc --write-snplist --out output/read_t1dcc"
   ]
  },
  {
   "cell_type": "markdown",
   "metadata": {},
   "source": [
    "<span style=\"color:blue\"><b>Q2.1.</b><i> Description des fichiers et données:</i></span>"
   ]
  },
  {
   "cell_type": "markdown",
   "metadata": {},
   "source": [
    "<span style=\"color:blue\"><i>- Quel est le format des fichiers d'entrée? </i></span>"
   ]
  },
  {
   "cell_type": "markdown",
   "metadata": {},
   "source": [
    "Votre réponse..."
   ]
  },
  {
   "cell_type": "markdown",
   "metadata": {},
   "source": [
    "<span style=\"color:blue\"><i>- Donnez le nombre de sujets? </i></span>\n",
    " "
   ]
  },
  {
   "cell_type": "markdown",
   "metadata": {},
   "source": [
    "Votre réponse..."
   ]
  },
  {
   "cell_type": "markdown",
   "metadata": {},
   "source": [
    "<span style=\"color:blue\"><i>- Comment se répartissent-ils entre patients et contrôles? </i></span>"
   ]
  },
  {
   "cell_type": "markdown",
   "metadata": {},
   "source": [
    "Votre réponse..."
   ]
  },
  {
   "cell_type": "markdown",
   "metadata": {},
   "source": [
    "<span style=\"color:blue\"><i>- Indiquer les effectifs par sexe.</i></span>"
   ]
  },
  {
   "cell_type": "markdown",
   "metadata": {},
   "source": [
    "Votre réponse..."
   ]
  },
  {
   "cell_type": "markdown",
   "metadata": {},
   "source": [
    "<span style=\"color:blue\"><i>- Combien de marqueurs sont inclus ? </i></span>"
   ]
  },
  {
   "cell_type": "markdown",
   "metadata": {},
   "source": [
    "Votre réponse..."
   ]
  },
  {
   "cell_type": "markdown",
   "metadata": {},
   "source": [
    "<span style=\"color:blue\"><i>- Quel est le taux moyen de génotypage par SNP? </i></span>"
   ]
  },
  {
   "cell_type": "markdown",
   "metadata": {},
   "source": [
    "Votre réponse..."
   ]
  },
  {
   "cell_type": "markdown",
   "metadata": {},
   "source": [
    "### **II.B. Contrôle de qualité**"
   ]
  },
  {
   "cell_type": "markdown",
   "metadata": {},
   "source": [
    "Notre jeu de données ainsi prêt, vous pouvez procéder aux analyses de contrôle de qualité avec plusieurs étapes de filtres pour élminier les données de mauvaise qualité.<br>\n",
    "Il est recommandé de commencer par les contrôles de qualité sur les SNPs, avant de procéder aux contrôles de qualité sur les sujets."
   ]
  },
  {
   "cell_type": "markdown",
   "metadata": {},
   "source": [
    "<div class=\"alert alert-block alert-danger\"><b>Attention: à chaque étape de nettoyage, nous donnons un nouveau nom aux fichiers!</b> \n",
    "<br>=> Si vous voulez générer des fichiers .ped et .map, la commande est : <b>--recode</b>\n",
    "<br>=> Si vous voulez générer des fichiers .bed, .bim et .fam, la commande est : <b>--make-bed</b>\n",
    "</div>"
   ]
  },
  {
   "cell_type": "markdown",
   "metadata": {},
   "source": [
    "##### **-> QC sur les SNPs**"
   ]
  },
  {
   "cell_type": "markdown",
   "metadata": {},
   "source": [
    "- Exclusion des SNPs avec un **taux de génotypage <95 %** dans l'ensemble de l'étude"
   ]
  },
  {
   "cell_type": "code",
   "execution_count": null,
   "metadata": {},
   "outputs": [],
   "source": [
    "%%bash\n",
    "# cell 18\n",
    "plink --bfile input/t1dcc --geno 0.05 --make-bed --out output/filter1"
   ]
  },
  {
   "cell_type": "markdown",
   "metadata": {},
   "source": [
    "- Exclusion des SNPs avec des **taux de génotypage trop différents entre patients et contrôles**"
   ]
  },
  {
   "cell_type": "code",
   "execution_count": null,
   "metadata": {},
   "outputs": [],
   "source": [
    "%%bash\n",
    "# cell 19\n",
    "plink --bfile output/filter1 --test-missing --pfilter 0.00001 --out output/missingcc"
   ]
  },
  {
   "cell_type": "markdown",
   "metadata": {},
   "source": [
    "Cette 1ère commande a généré la liste des SNPs problématiques dans un fichier « missingcc.missing ». Excluez-les à présent avec cette 2nde commande  :"
   ]
  },
  {
   "cell_type": "code",
   "execution_count": null,
   "metadata": {},
   "outputs": [],
   "source": [
    "%%bash\n",
    "# cell 20\n",
    "plink --bfile output/filter1 --exclude output/missingcc.missing --make-bed --out output/filter2"
   ]
  },
  {
   "cell_type": "markdown",
   "metadata": {},
   "source": [
    "- Exclusion des **SNPs qui ne sont pas en équilibre de Hardy-Weinberg** chez les contrôles au seuil 10<sup>-4</sup>"
   ]
  },
  {
   "cell_type": "code",
   "execution_count": null,
   "metadata": {},
   "outputs": [],
   "source": [
    "%%bash\n",
    "# cell 21\n",
    "plink --bfile output/filter2 --hwe 0.0001 --make-bed --out output/filter3"
   ]
  },
  {
   "cell_type": "markdown",
   "metadata": {},
   "source": [
    "- Exclusion des SNPs rares avec une **MAF < 0.01**"
   ]
  },
  {
   "cell_type": "code",
   "execution_count": null,
   "metadata": {},
   "outputs": [],
   "source": [
    "%%bash\n",
    "# cell 22\n",
    "plink --bfile output/filter3 --maf 0.01 --make-bed --out output/filter4"
   ]
  },
  {
   "cell_type": "markdown",
   "metadata": {},
   "source": [
    "D'autres contrôles peuvent être effectués : vérifier que les SNPs ne sont pas dupliqués (PLINK le signale automatiquement), que les SNPs n'ont qu'une seule position génomique sur le génome, etc..."
   ]
  },
  {
   "cell_type": "markdown",
   "metadata": {},
   "source": [
    "<span style=\"color:blue\"><b>Q2.2.</b><i>Combien de marqueurs sont exclus à chaque étape? Combien reste-t-il de marqueurs après ce QC sur les SNPs ?</i></span>"
   ]
  },
  {
   "cell_type": "markdown",
   "metadata": {},
   "source": [
    "Votre réponse..."
   ]
  },
  {
   "cell_type": "markdown",
   "metadata": {},
   "source": [
    "<span style=\"color:blue\"><b>Q2.3.</b><i> Pourquoi ne considère-t-on pas les SNPs rares dans cette étude ?</i></span>"
   ]
  },
  {
   "cell_type": "markdown",
   "metadata": {},
   "source": [
    "Votre réponse..."
   ]
  },
  {
   "cell_type": "markdown",
   "metadata": {},
   "source": [
    "##### **->QC sur les sujets**"
   ]
  },
  {
   "cell_type": "markdown",
   "metadata": {},
   "source": [
    "- Exclusion des sujets avec un **taux de génotypage <95 %**"
   ]
  },
  {
   "cell_type": "code",
   "execution_count": null,
   "metadata": {},
   "outputs": [],
   "source": [
    "%%bash\n",
    "# cell 23\n",
    "plink --bfile output/filter4 --mind 0.05 --make-bed --out output/filter5"
   ]
  },
  {
   "cell_type": "markdown",
   "metadata": {},
   "source": [
    "- Exclusion des **sujets apparentés**"
   ]
  },
  {
   "cell_type": "markdown",
   "metadata": {},
   "source": [
    "La détection des sujets apparentés peut se faire avec PLINK mais nécessite de nombreuses commandes (`--genome`, ) et est très longue à tourner.\n",
    "<br>Il est plus aisé d'utiliser un logiciel dédié à cette analyse : **KING** (Kinship-based Infererence for GWAS): http://people.virginia.edu/~wc9c/KING/ . Ce logiciel est très rapide, permet de lire des fichiers binaires de PLINK. Il permet aussi d'analyser la structure de la population.\n",
    "> Si vous utiliez KING en dehors d'adénine, téléchargez-le, dézippez le et copier une cmd.exe dans le même répertoire si vous travaillez sous windows ou copiez le king.exe dans votre répertoire de travail. Comme pour PLINK, les fichiers d'entrée doivent être dans le même répertoire."
   ]
  },
  {
   "cell_type": "markdown",
   "metadata": {},
   "source": [
    "Exécutez la commande suivante (<mark>elle prend quelques secondes</mark>). Comme **KING** ne génère pas de fichier `.log`, nous n'avons pas à nous inquiéter d'écraser le log précédent."
   ]
  },
  {
   "cell_type": "code",
   "execution_count": null,
   "metadata": {},
   "outputs": [],
   "source": [
    "%%bash\n",
    "# cell 24\n",
    "king -b output/filter5.bed --kinship --related --prefix output/filter5"
   ]
  },
  {
   "cell_type": "markdown",
   "metadata": {},
   "source": [
    "Cette commade vous a gènèré un fichier `filter5.kin` indiquant les relations dans les familles, et un fichier `filter5.kin0` indiquant les relations entre les familles. Dans ces fichiers, la colonne « Kinship » correspond au coefficient de corrélation estimé. S'il est > 0.17, ils est probable qu'ils soient apparentés au moins au 1er degré.\n",
    "\n",
    "La commande suivante vous permet de récupérer la liste des sujets non apparentés (<mark>elle prend quelques secondes, soyez patients!</mark>). Attention elle s'effectue toujours sur l'input de prefixe `filter5` car la commande précédente de **KING** n'a pas généré de nouveaux fichiers de pedigree. "
   ]
  },
  {
   "cell_type": "code",
   "execution_count": null,
   "metadata": {},
   "outputs": [],
   "source": [
    "%%bash\n",
    "# cell 25\n",
    "king -b output/filter5.bed --kinship --unrelated --prefix output/filter5"
   ]
  },
  {
   "cell_type": "markdown",
   "metadata": {},
   "source": [
    "La commande suivante de **PLINK** vous permet de sélectionner les sujets non apparentés :"
   ]
  },
  {
   "cell_type": "code",
   "execution_count": null,
   "metadata": {},
   "outputs": [],
   "source": [
    "%%bash\n",
    "# cell 26\n",
    "plink --bfile output/filter5 --keep output/filter5unrelated.txt --make-bed --out output/filter6"
   ]
  },
  {
   "cell_type": "markdown",
   "metadata": {},
   "source": [
    "De nombreux autres vérifications peuvent être effectuées :\n",
    "<br>On peut par exemple vérifier que les génotypes sur les chromosomes X et Y, s'ils sont disponibles, sont en accord avec le sexe des sujets. On peut également vérifier que les sujets ne sont pas en excès d'hétérozygotie, ce qui pourrait indiquer une contamination par un autre ADN. Si certains sujets ont été génotypés plusieurs fois (contrôle positif présent sur chaque plaque de génotypage), il est bon de vérifier que les génotypes sont identiques. De même, on peut avoir placé des sujets de génotype déjà connus pour tous les SNPs ou certains SNPs de la puce et vérifier la concordance."
   ]
  },
  {
   "cell_type": "markdown",
   "metadata": {},
   "source": [
    "<span style=\"color:blue\"><b>Q2.4.</b><i> Combien de sujets sont exclus à chaque étape? Combien reste-t-il de cas et de contrôles à l'issue de ce QC ?</i></span>"
   ]
  },
  {
   "cell_type": "markdown",
   "metadata": {},
   "source": [
    "Votre réponse..."
   ]
  },
  {
   "cell_type": "markdown",
   "metadata": {},
   "source": [
    "<span style=\"color:blue\"><b>Q2.5.</b><i> Quel contrôle essentiel pour une étude d'association cas-contrôle n'a-t-on pas encore fait ?</i></span>"
   ]
  },
  {
   "cell_type": "markdown",
   "metadata": {},
   "source": [
    "Votre réponse..."
   ]
  },
  {
   "cell_type": "markdown",
   "metadata": {},
   "source": [
    "Nous le ferons plus tard, après une première tentative de GWAS."
   ]
  },
  {
   "cell_type": "markdown",
   "metadata": {},
   "source": [
    "## **III. Troisième partie: Analyse d'association génétique cas-contrôles** *(~ 45')* \n",
    "---\n",
    "\n",
    "### **III.A. 1er essai de test d'association allélique pangénomique**\n",
    "\n",
    "**-> test de Chi2**\n",
    "\n",
    "Effectuez maintenant le test d'association allélique pangénomique avec les arguments:<br>\n",
    "```--assoc```: un test de Chi2<br>\n",
    "```--adjust```: génère les pvalues ajustées également<br>\n",
    "```--ci 0.95```: afin d'avoir l'IC à 95% de l'OR"
   ]
  },
  {
   "cell_type": "code",
   "execution_count": null,
   "metadata": {},
   "outputs": [],
   "source": [
    "%%bash\n",
    "# cell 27\n",
    "plink --bfile output/filter6 --assoc --ci 0.95 --adjust --out output/allelictest"
   ]
  },
  {
   "cell_type": "markdown",
   "metadata": {},
   "source": [
    "<span style=\"color:blue\"><b>Q3.1.</b><i> Quels sont les fichiers de sortie produits par cette commande ? A quoi correspondent-ils ?</i></span>"
   ]
  },
  {
   "cell_type": "markdown",
   "metadata": {},
   "source": [
    "Votre réponse..."
   ]
  },
  {
   "cell_type": "markdown",
   "metadata": {},
   "source": [
    "<div class=\"alert alert-block alert-warning\"><b>Au lieu de faire un test de Chi2 qui repose sur une approximation des distributions des allèles selon le statut, il est préférable de réaliser un test exact de Fisher qui prend en compte la distribution réelle de vos données.</b> Ce test peut-être très long à réaliser. Mais avec les outils informatiques, c'est désormais plus accessible. Nous allons donc refaire cette même étude d'association avec le test exact de Fisher. Au lieu de taper l'option `--assoc` il faut taper l'option `--fisher`. Les deux fichiers de résultats obtenus contiendront par défaut le mot \"fisher\". Il serait donc répétitif de le mettre dans le préfixe de vos fichiers de sortie que je vous propose de simplifier par \"allelic\".</div>"
   ]
  },
  {
   "cell_type": "markdown",
   "metadata": {},
   "source": [
    "**-> test exact de Fisher**"
   ]
  },
  {
   "cell_type": "code",
   "execution_count": null,
   "metadata": {},
   "outputs": [],
   "source": [
    "%%bash\n",
    "# cell 28\n",
    "plink --bfile output/filter6 --fisher --ci 0.95 --adjust --out output/allelic"
   ]
  },
  {
   "cell_type": "markdown",
   "metadata": {},
   "source": [
    "-> Vous voyez, ca a été rapide avec PLINK1.9 et adenine!\n",
    "\n",
    "Par défaut PLINK fournit des outputs avec des espaces multiples comme séparateur de colonnes, afin de les aligner visuellement. Mais pour certaines autres applications, il peut être utile de le convertir en format avec des tabulations comme séparateur de colonne. Dans la documentation de PLINK 1.9 à ce lien https://www.cog-genomics.org/plink/1.9/other, ils expliquent comment y parvenir avec trois commandes que nous enchaînons avec des pipes:\n",
    "- une première commande avec `sed` pour remplacer l'espace en début de chaque ligne par rien\n",
    "- une seconde commande avec `sed` pour remplacer l'espace en fin de chaque ligne par rien\n",
    "- une dernière commande avec `tr` pour remplacer (translate) les séries de 1 à plusieurs espaces en une seule tabulation\n",
    "Pour pouvoir ouvrir ce fichier directement avec un outil de tabulation (excel, librecalc ou TSVTable sur le jupyterLab), nous sauvegardons ce nouveau fichier en ajoutant l'extension `.tsv`.\n",
    "\n",
    "Nous appliquons ces commandes ci-dessous pour les deux fichiers de sortie principaux de plink:\n",
    "- allelic.assoc.fisher trié par position physique\n",
    "- allelic.assoc.fisher.adjusted trié par pvalue croissante"
   ]
  },
  {
   "cell_type": "code",
   "execution_count": null,
   "metadata": {},
   "outputs": [],
   "source": [
    "%%bash\n",
    "# cell 29\n",
    "cat output/allelic.assoc.fisher | sed 's/^[[:space:]]*//g' | sed 's/[[:space:]]*$//g' | tr -s ' ' '\\t' > output/allelic.assoc.fisher.tsv\n",
    "cat output/allelic.assoc.fisher.adjusted | sed 's/^[[:space:]]*//g' | sed 's/[[:space:]]*$//g' | tr -s ' ' '\\t' > output/allelic.assoc.fisher.adjusted.tsv"
   ]
  },
  {
   "cell_type": "markdown",
   "metadata": {},
   "source": [
    "**-> visualisation des résultats et QC**\n",
    "\n",
    "A présent, nous allons explorer visuellement les résultats du test exact de Fisher en utilisant le paquet **qqman** de **R** (https://cran.r-project.org/package=qqman).\n",
    "\n",
    "Comme lorsque l'on lançait des commandes bash, il est nécessaire dans ce notebook avec un noyau python, de spécifier que la cellule sera exéutée dans un autre langage R que python. Pour ce faire, <mark>après avoir bien lancé la 1ère cellule de ce notebook qui active le module `Rpy2`</mark>, il suffit alors d'écrire `%%R` sur la 1ère ligne de la cellule. Dans un notebook avec un noyau R, ce ne serait pas nécessaire.\n",
    "\n",
    "Chargeons donc le paquet R depuis votre librairie et vérifions. En principe, vous avez la version `0.1.4` de qqman qui a déjà été installée dans votre environnement JupyterLab."
   ]
  },
  {
   "cell_type": "code",
   "execution_count": null,
   "metadata": {},
   "outputs": [],
   "source": [
    "%%R\n",
    "# cell 30\n",
    "library(qqman)\n",
    "sessionInfo()"
   ]
  },
  {
   "cell_type": "markdown",
   "metadata": {},
   "source": [
    "Pour savoir comment utiliser qqman, vous pouvez consulter la vignette de ce paquet au lien suivant: https://cran.r-project.org/web/packages/qqman/vignettes/qqman.html"
   ]
  },
  {
   "cell_type": "markdown",
   "metadata": {},
   "source": [
    "- Nous allons commencer par charger dans R les résultats de l'étude d'association allélique obtenue avec PLINK avec la fonction `read.table()`."
   ]
  },
  {
   "cell_type": "code",
   "execution_count": null,
   "metadata": {},
   "outputs": [],
   "source": [
    "%%R\n",
    "# cell 31\n",
    "gwasResults <- read.table(\"output/allelic.assoc.fisher\",header=T)# on peut charger directement dans R la version avec les espaces comme séparateur de champs!\n",
    "str(gwasResults)# pour afficher la strture de l'objet\n",
    "head(gwasResults)# pour afficher les 6 premières lignes"
   ]
  },
  {
   "cell_type": "markdown",
   "metadata": {},
   "source": [
    "- Tracez ensuite votre Manhattan plot avec la fonction `manhattan()` avec les commandes suivantes:"
   ]
  },
  {
   "cell_type": "code",
   "execution_count": null,
   "metadata": {},
   "outputs": [],
   "source": [
    "%%R\n",
    "# cell 32\n",
    "manhattan(gwasResults)# une première fois pour qu'il s'affiche dans le notebook\n",
    "png(\"output/Fisher_test_manhattan.png\")# on recommence pour sauvegarder la figure à part\n",
    "manhattan(gwasResults)\n",
    "dev.off()"
   ]
  },
  {
   "cell_type": "markdown",
   "metadata": {},
   "source": [
    "- Il est également recommandé de tracer un qqplot, qui visualise la conformité de la distribution des p-values à celle attendue selon une loi uniforme en cas d'absence d'association (hypothèse nulle). Le même paquet **qqman** vous permet de tracer ce qqplot avec la fonction `qq()`."
   ]
  },
  {
   "cell_type": "code",
   "execution_count": null,
   "metadata": {},
   "outputs": [],
   "source": [
    "%%R\n",
    "# cell 33\n",
    "qq(gwasResults$P, main=\"Q-Qplot of P-values\")# une première fois pour qu'il s'affiche dans le notebook\n",
    "\n",
    "png(\"output/Fisher_test_qqplot.png\")# on recommence pour sauvegarder la figure à part\n",
    "qq(gwasResults$P, main=\"Q-Qplot of exact Fisher test P-values\")\n",
    "dev.off()"
   ]
  },
  {
   "cell_type": "markdown",
   "metadata": {},
   "source": [
    "- On réajuste les axes pour avoir la ligne rouge en diagonale"
   ]
  },
  {
   "cell_type": "code",
   "execution_count": null,
   "metadata": {},
   "outputs": [],
   "source": [
    "%%R\n",
    "# cell 34\n",
    "qq(gwasResults$P, main=\"Q-Qplot of P-values\",xlim=c(0,max(-log10(gwasResults$P))))"
   ]
  },
  {
   "cell_type": "markdown",
   "metadata": {},
   "source": [
    "<span style=\"color:blue\"><b>Q3.2. </b><i>Que pensez-vous de ces résultats à l'échelle pangénomique ?</i></span>"
   ]
  },
  {
   "cell_type": "markdown",
   "metadata": {},
   "source": [
    "Votre réponse..."
   ]
  },
  {
   "cell_type": "markdown",
   "metadata": {},
   "source": [
    "<span style=\"color:blue\"><b>Q3.3. </b><i>Dans le fichier « allelic.log » généré par PLINK, quelle valeur d'inflation factor obtenez-vous ? Une valeur proche de 1 indique une population homogène. Qu'en concluez-vous sur votre échantillon et les résultats obtenus ?</i></span>"
   ]
  },
  {
   "cell_type": "markdown",
   "metadata": {},
   "source": [
    "Votre réponse..."
   ]
  },
  {
   "cell_type": "markdown",
   "metadata": {},
   "source": [
    "### **III.B. GWAS en prenant compte de la stratification de population**"
   ]
  },
  {
   "cell_type": "markdown",
   "metadata": {},
   "source": [
    "#### **1. Evaluation de la stratification de population**"
   ]
  },
  {
   "cell_type": "markdown",
   "metadata": {},
   "source": [
    "Pour évaluer la stratification de population, vous réaliserez une ***MDS*** = multi-dimensional-scaling analysis avec le logiciel **KING** (https://people.virginia.edu/~wc9c/KING/kingpopulation.html). Ce type d'analyse est similaire à une ACP, mais au lieu d'utiliser les covariances entre les variables, la MDS prend en compte la distance Euclidienne et est plus adaptée pour rapprocher les individus.\n",
    "\n",
    "- Lancez la commande suivante pour faire une **analyse MDS** (cette commande peut prendre quelques secondes):"
   ]
  },
  {
   "cell_type": "code",
   "execution_count": null,
   "metadata": {},
   "outputs": [],
   "source": [
    "%%bash\n",
    "# cell 35\n",
    "king -b output/filter6.bed --mds --pcs 20 --prefix output/stratif"
   ]
  },
  {
   "cell_type": "markdown",
   "metadata": {},
   "source": [
    "-> Regardez le fichier `stratifpc.txt`. Les colonnes 7 à 26 correspondent aux 20 premiers vecteurs de cette analyse MDS (10 par défaut que nous avons modifié à 20 avec l'option `--pcs`)."
   ]
  },
  {
   "cell_type": "markdown",
   "metadata": {},
   "source": [
    "- A présent, dans R, nous allons **visualiser cette analyse MDS** en séparant artificiellement la représentation des contrôles (les 357 premiers dans le fichier) et les contrôles (de 358 à 572), pour mieux visualiser les différences."
   ]
  },
  {
   "cell_type": "code",
   "execution_count": null,
   "metadata": {},
   "outputs": [],
   "source": [
    "%%R\n",
    "# cell 36\n",
    "mds <- read.table(\"output/stratifpc.txt\", header=T, stringsAsFactors=FALSE)\n",
    "#png(\"output/mds.png\")\n",
    "par(mfrow=c(2,2))\n",
    "plot(mds$PC1, mds$PC2, type=\"n\", xlab=\"PC1\", ylab=\"PC2\", main=\"MDS PC1-PC2 in Controls\")\n",
    "points(mds$PC1[1:357], mds$PC2[1:357], col=\"black\")\n",
    "plot(mds$PC1, mds$PC2, type=\"n\",xlab=\"PC1\", ylab=\"PC2\", main=\"MDS PC1-PC2 2 in Cases\" )\n",
    "points(mds$PC1[358:572], mds$PC2[358:572], col=\"red\")\n",
    "plot(mds$PC2, mds$PC3, type=\"n\", xlab=\"PC2\", ylab=\"PC3\", main=\"MDS PC2-PC3 in Controls\")\n",
    "points(mds$PC2[1:357], mds$PC3[1:357], col=\"black\")\n",
    "plot(mds$PC2, mds$PC3, type=\"n\", xlab=\"PC2\", ylab=\"PC3\", main=\"MDS PC2-PC3 3 in Cases\")\n",
    "points(mds$PC2[358:572], mds$PC3[358:572], col=\"red\")\n",
    "#dev.off"
   ]
  },
  {
   "cell_type": "markdown",
   "metadata": {},
   "source": [
    "<span style=\"color:blue\"><b>Q3.4. </b><i>Que pensez-vous de ces graphiques ?</i></span>"
   ]
  },
  {
   "cell_type": "markdown",
   "metadata": {},
   "source": [
    "Votre réponse..."
   ]
  },
  {
   "cell_type": "markdown",
   "metadata": {},
   "source": [
    "#### **2. GWAS corrigé pour la stratification de population**"
   ]
  },
  {
   "cell_type": "markdown",
   "metadata": {},
   "source": [
    "Nous allons utiliser les vecteurs propres de l'analyse MDS comme covariable dans l'étude d'association en utilisant un modèle logistique dans PLINK sous un modèle additif."
   ]
  },
  {
   "cell_type": "markdown",
   "metadata": {},
   "source": [
    "La prise en compte des 20 composantes de la MDS peut prendre jusqu'à 1h30 sur des ordinateurs classiques. Sur adenine, elle devrait prendre <mark>2 à 5 minutes max</mark>. Le fichier `stratif.txt` est lu comme un fichier \"phenotype\" de PLINK avec chaque colonne 3 à n lue comme une covariable. Les vecteurs de l'analyses MDS correspondent seraient ici les covariables 5 à 24 pour PLINK avec l'argument `--covar-number`. Il est plus simple de donner leur nom avec l'argument `--covar-name` dans la commande ci-dessous.\n",
    "> Si toutefois vous vouliez tester le TP sur une autre machine qu'adenine, nous vous recommandons de ne prendre en compte que les 2 ou 5 premières composantes, ce qui prend 5 à 15 minutes seulement. Changez juste le numéro des covariables dans la commande."
   ]
  },
  {
   "cell_type": "code",
   "execution_count": null,
   "metadata": {},
   "outputs": [],
   "source": [
    "%%bash\n",
    "# cell 37\n",
    "plink --bfile output/filter6 --logistic --adjust --ci 0.95 --covar output/stratifpc.txt --covar-name PC1-PC20 --hide-covar --out output/aftermds_PC20"
   ]
  },
  {
   "cell_type": "markdown",
   "metadata": {},
   "source": [
    "- De nouveau, nous **sauvegardons une version `.tsv` des deux fichiers de sortie**:  `.logistic` trié par position physique, et `.logistic.adjusted` trié par pvalue."
   ]
  },
  {
   "cell_type": "code",
   "execution_count": null,
   "metadata": {},
   "outputs": [],
   "source": [
    "%%bash\n",
    "# cell 38\n",
    "cat output/aftermds_PC20.assoc.logistic | sed 's/^[[:space:]]*//g' | sed 's/[[:space:]]*$//g' | tr -s ' ' '\\t' > output/aftermds_PC20.assoc.logistic.tsv\n",
    "cat output/aftermds_PC20.assoc.logistic.adjusted | sed 's/^[[:space:]]*//g' | sed 's/[[:space:]]*$//g' | tr -s ' ' '\\t' > output/aftermds_PC20.assoc.logistic.adjusted.tsv"
   ]
  },
  {
   "cell_type": "markdown",
   "metadata": {},
   "source": [
    "- De nouveau, **visualisez vos résultats** avec un Manhattan plot et un qq-plot dans R:"
   ]
  },
  {
   "cell_type": "code",
   "execution_count": null,
   "metadata": {},
   "outputs": [],
   "source": [
    "%%R\n",
    "# cell 39\n",
    "library(qqman)\n",
    "gwasResultsAfterMDS <- read.table(\"output/aftermds_PC20.assoc.logistic\", header=T)\n",
    "#png(\"output/gwas_after_stratif.png\")\n",
    "par(mfrow=c(2,1))\n",
    "manhattan(gwasResultsAfterMDS[! is.na(gwasResultsAfterMDS$P),])\n",
    "qq(gwasResultsAfterMDS$P, main=\"Q-Qplot of P-values\")\n",
    "#dev.off()"
   ]
  },
  {
   "cell_type": "markdown",
   "metadata": {},
   "source": [
    "<span style=\"color:blue\"><b>Q3.5. </b><i>La prise en compte de la stratification vous semble-t-elle efficace ? Complètement efficace?</i></span>"
   ]
  },
  {
   "cell_type": "markdown",
   "metadata": {},
   "source": [
    "Votre réponse..."
   ]
  },
  {
   "cell_type": "markdown",
   "metadata": {},
   "source": [
    "<span style=\"color:blue\"><b>Q3.6. </b><i>Comparez les régions associées à celles déjà connues en vous référant aux articles (Onengut-Gumuscu S, et al., 2015, Robertson CC et al., 2021; présents dans l'environnement).</i></span>"
   ]
  },
  {
   "cell_type": "markdown",
   "metadata": {},
   "source": [
    "Votre réponse..."
   ]
  },
  {
   "cell_type": "markdown",
   "metadata": {},
   "source": [
    "Une des difficulté de la puce immunochip est qu'elle ne contient pas de SNPs de référence \"neutres\" pour les études de population. Elle est au contraire enrichie en SNPs dans des régions du génome impliquées dans la réponse immunitaire, donc soumis à sélection.\n"
   ]
  },
  {
   "cell_type": "markdown",
   "metadata": {},
   "source": [
    "<span style=\"color:blue\"><b>Q3.7. </b><i>Quel type d'étude d'association permettrait de surmonter cette difficulté?</i></span>"
   ]
  },
  {
   "cell_type": "markdown",
   "metadata": {},
   "source": [
    "Votre réponse..."
   ]
  },
  {
   "cell_type": "markdown",
   "metadata": {},
   "source": [
    "> ***Pour aller plus loin:***\n",
    ">Si vous les souhaitez, vous pouvez réaliser le même test avec un autre modèle que le modèle additif en ajoutant les arguments: \t`--dominant / --recessive / -- genotypic`<br>\n",
    ">Vous pouvez utiliser un autre logiciel, GCTA  pour Genome-wide Complex Trait Analysis  (http://cnsgenomics.com/software/gcta/index.html) de plus en plus populaire en génétique multifactorielle, en particulier pour estimer la variance phénotypique expliquée par les différentes régions associées."
   ]
  },
  {
   "cell_type": "markdown",
   "metadata": {},
   "source": [
    "## **IV - Quatrième partie: Étude d'association familiale** *(~ 20-30')*\n",
    "\n",
    "---\n",
    "Vous allez étendre l'étude d'association de type cas-contrôles réalisée précédemment à une cohorte familiale de patients atteints de diabète de type 1. En fait, pour la plupart des patients étudiés dans l'étude d'association cas-contrôles ci-dessus, leurs parents sains ont également été collectés et génotypés avec la puce immunochip.\n",
    "\n",
    "Les données concernant les autosomes ont déjà été formatées pour être utilisées dans PLINK.\n",
    "Plusieurs contrôles qualité ont été effectués en amont:\n",
    "\n",
    "- erreurs mendéliennes identifiées: retrait des familles ou individus problématiques si plusieurs marqueurs sont concernés\n",
    "- SNPs en déséquilibre de Hardy-Weinberg éliminés\n",
    "- SNPs avec une MAF < 0.01 éliminés\n",
    "- SNPs et individus avec taux de génotypage insuffisant (<95%) éliminés \n",
    "\n",
    "Les données ainsi nettoyées pour ces familles nucléaires (ou trios) sont disponibles sur moodle avec le préfixe `ic_trio`. \n",
    "\n",
    "- Faites tourner l'étude d'**association familiale de type TDT** avec l'argument `--tdt` dans la commande ci-dessous:"
   ]
  },
  {
   "cell_type": "code",
   "execution_count": null,
   "metadata": {},
   "outputs": [],
   "source": [
    "%%bash\n",
    "# cell 40\n",
    "plink --bfile input/ic_trio --tdt --adjust --ci 0.95 --out output/tdttrio"
   ]
  },
  {
   "cell_type": "markdown",
   "metadata": {},
   "source": [
    "<span style=\"color:blue\"><b>Q4.1. </b><i>Identifier les informations descriptives relatives aux SNPs et aux sujets inclus?</i></span>"
   ]
  },
  {
   "cell_type": "markdown",
   "metadata": {},
   "source": [
    "Votre réponse..."
   ]
  },
  {
   "cell_type": "markdown",
   "metadata": {},
   "source": [
    "- Ouvrez le fichier de sortie `tdttrio.tdt` qui recence les résultats ordonnés par position génomique. Dans cette analyse, considérez la colonne P pour connaitre le niveau de signification statistique non corrigé. Ouvrez aussi le fichier `tdttrio.tdt.adjusted` qui contient les résultats triés en fonction du niveau de signification croissant.\n",
    "\n",
    "Nous en sauvegardons également une version `.tsv` au cas où."
   ]
  },
  {
   "cell_type": "code",
   "execution_count": null,
   "metadata": {},
   "outputs": [],
   "source": [
    "%%bash\n",
    "# cell 41\n",
    "cat output/tdttrio.tdt | sed 's/^[[:space:]]*//g' | sed 's/[[:space:]]*$//g' | tr -s ' ' '\\t' > output/tdttrio.tdt.tsv\n",
    "cat output/tdttrio.tdt.adjusted | sed 's/^[[:space:]]*//g' | sed 's/[[:space:]]*$//g' | tr -s ' ' '\\t' > output/tdttrio.tdt.adjusted.tsv"
   ]
  },
  {
   "cell_type": "markdown",
   "metadata": {},
   "source": [
    "- Utiliser qqman sous R pour tracer le **qqplot et le manhattan plot** que vous pourrez sauvegarder."
   ]
  },
  {
   "cell_type": "code",
   "execution_count": null,
   "metadata": {},
   "outputs": [],
   "source": [
    "%%R\n",
    "# cell 42\n",
    "tdt <- read.table(\"output/tdttrio.tdt\", header=T)\n",
    "head(tdt)"
   ]
  },
  {
   "cell_type": "code",
   "execution_count": null,
   "metadata": {},
   "outputs": [],
   "source": [
    "%%R\n",
    "# cell 43\n",
    "#png(\"output/manhattan_trios.png\")\n",
    "manhattan(tdt[! is.na(tdt$P),], p=\"P\")\n",
    "#dev.off()\n",
    "#png(\"output/qqplot_trios.png\")\n",
    "qq(tdt$P)\n",
    "#dev.off()"
   ]
  },
  {
   "cell_type": "markdown",
   "metadata": {},
   "source": [
    "<span style=\"color:blue\"><b>Q4.2. </b><i>Que pensez-vous de ces résultats ?</i></span> "
   ]
  },
  {
   "cell_type": "markdown",
   "metadata": {},
   "source": [
    "Votre réponse..."
   ]
  },
  {
   "cell_type": "markdown",
   "metadata": {},
   "source": [
    "<span style=\"color:blue\"><b>Q4.3. </b><i>En dehors du CMH (chr6 entre 27 et 33 Mb), combien de SNPs ou de régions sont associés de manière significative (5x10<sup>-8</sup>)? Combien de SNPs ou de régions sont associés de manière suggestive (10<sup>-5</sup>)?</i></span> "
   ]
  },
  {
   "cell_type": "markdown",
   "metadata": {},
   "source": [
    "Votre réponse..."
   ]
  },
  {
   "cell_type": "markdown",
   "metadata": {},
   "source": [
    "<span style=\"color:blue\"><b>Q4.4. </b><i>Les SNPs associés à la maladie et les régions correspondantes sont-ils les mêmes que ceux de l'étude cas-contrôles?</i></span>"
   ]
  },
  {
   "cell_type": "markdown",
   "metadata": {},
   "source": [
    "Votre réponse..."
   ]
  },
  {
   "cell_type": "markdown",
   "metadata": {},
   "source": [
    "<span style=\"color:blue\"><b>Q4.5. </b><i>Les SNPs associés à la maladie et les régions correspondantes sont-ils les mêmes que ceux déjà connus dans la littérature? </i></span>"
   ]
  },
  {
   "cell_type": "markdown",
   "metadata": {},
   "source": [
    "Votre réponse..."
   ]
  },
  {
   "cell_type": "markdown",
   "metadata": {},
   "source": [
    "Vous pourriez aussi explorer si les SNPs associés à la maladie, et les régions correspondantes, ont déjà été associés à d'autres maladies ou traits. Pour les autres maladies ou traits, vous pouvez consulter le GWAS catalogue https://www.ebi.ac.uk/gwas/, ClinVar https://www.ncbi.nlm.nih.gov/clinvar/, ou  les bases de données de variants comme dbSNP (https://www.ncbi.nlm.nih.gov/snp/ ou de gènes comme Gene du ncbi https://www.ncbi.nlm.nih.gov/gene/ ou Genecards https://www.genecards.org/ voire d'eQTLs comme GTEx https://gtexportal.org/home/. Vous pouvez aussi voir s'ils sont en DL avec d'autres SNPs qui eux avec la suite LDlink https://ldlink.nci.nih.gov/?tab=home."
   ]
  },
  {
   "cell_type": "markdown",
   "metadata": {},
   "source": [
    "<div class=\"alert alert-block alert-success\"><b>=> Bravo!</b><br>\n",
    "\n",
    "Vous avez réussi à mener votre 1er GWAS de bout en bout!</div>"
   ]
  },
  {
   "cell_type": "markdown",
   "metadata": {},
   "source": [
    "<div class=\"alert alert-block alert-warning\"><b>Pour aller plus loin: </b>\n",
    "    \n",
    "- Le logiciel <b>LocusZoom</b> (http://locuszoom.sph.umich.edu/locuszoom/genform.php?type=yourdata) vous permet de réaliser un zoom du manhattan plot centré sur un SNP ou un gène donné en ligne en renseignant le fichier de sortie de PLINK. La figure est générée dans un format .pdf.\n",
    "Pour ce faire:<br>\n",
    "i. télécharger le fichier de résultats de l'étude d'association trié par position physique<br>\n",
    "ii. dans la 1ère boîte de locuzoom, cliquez à droite sur \"PLINK data\" en bleu -> cela spécificiera le bon format<br>\n",
    "iii. toujours dnas la 1ère boîte, dans \"Path to Your File\": choisissez votre fichier de résultat<br>\n",
    "iv. dans la seconde boîte, sélectionnez soit le SNP d'intérêt, soit un gène soit une région<br>\n",
    "v. dans les options, sélectionnez un panel pertinent pour afficher le DL de la région.<br>\n",
    "\n",
    "<mark><b>Attention:</b> notre jeu de données est sur la version <b>hg19/GRCHh37</b> du génome</mark>\n",
    "\n",
    "Vous pouvez utiliser cet outil en ligne pour la ou les région(s) associée(s).\n",
    "Vous pouvez aussi estimer le déséquilibre de liaison local avec PLINK et consulter le DL rapporté dans les populations de référence, par exemple en consultant par exemple les outils de la suite DLink https://ldlink.nci.nih.gov/?tab=home.    \n",
    "    \n",
    "    \n",
    "- D'autres logiciels performants vous permettent d'éffectuer des <b>analyses d'association familiales</b>: UNPHASED (https://sites.google.com/site/fdudbridge/software/unphased-3-1) et BEAGLE (http://faculty.washington.edu/browning/beagle/beagle.html).<br><br>\n",
    "    \n",
    "- Vous pouvez également faire des analyses combinant plusieurs SNPs ou conditionnées sur certains SNPs.\n",
    "</div>"
   ]
  },
  {
   "cell_type": "markdown",
   "metadata": {},
   "source": [
    "***Références***<br>\n",
    "1. Trynka G, et al. Dense genotyping identifies and localizes multiple common and rare variant association signals in celiac disease. Nature Genetics 43, 1193–1201 (2011) doi.org/10.1038/ng.998<br>\n",
    "2. Parkes M, et al. Genetic insight into common pathways and complex relationships among immune-mediated diseases. Nature Genetics 14, 661-673 (2013) doi.org/10.1038/nrg3502<br>\n",
    "3. Marees AT et al. A tutorial on conducting genome‐wide association studies: Quality control and statistical analysis. Int J Methods Psychiatr Res. 27:e1608. (2018) doi.org/10.1002/mpr.1608<br>\n",
    "4. Onengut-Gumuscu S et al. Fine mapping of type 1 diabetes susceptibility loci and evidence for colocalization of causal variants with lymphoid gene enhancers. Nature Genetics 47, 381–386 (2015) doi.org/10.1038/ng.3245<br>\n",
    "5. Robertson CC et al. (2021). Fine-mapping, trans-ancestral and genomic analyses identify causal variants, cells, genes and drug targets for type 1 diabetes. Nature Genetics 53, 962–971 (2021). doi.org/10.1038/s41588-021-00880-5"
   ]
  },
  {
   "cell_type": "markdown",
   "metadata": {},
   "source": [
    "***Useful links***    \n",
    "*To make nice html reports with markdown:* [html visualization tool1](https://dillinger.io/) or [html visualization tool2](https://stackedit.io/app#) and [to draw nice tables](https://www.tablesgenerator.com/markdown_tables ) and the [Ultimate guide](https://medium.com/analytics-vidhya/the-ultimate-markdown-guide-for-jupyter-notebook-d5e5abf728fd)   \n",
    "*Further reading on JupyterLab notebooks:*  https://jupyterlab.readthedocs.io/en/latest/user/notebook.html <br>\n",
    "*Here we are using JupyterLab interface implemented as part of the https://plasmabio.org/ project lead by Sandrine Caburet, Pierre Poulain and Claire Vandiedonck.*\n",
    "\n",
    "Les informations de configuration de ce notebook et de l'environnement jupyterlab associé sont disponibles à ce lien: https://github.com/CVandiedonck/T1D_GWAS_short_version\n",
    "\n",
    "---"
   ]
  },
  {
   "cell_type": "markdown",
   "metadata": {},
   "source": [
    "<div class=\"alert alert-block alert-info\"> \n",
    "    \n",
    "<b>Rappel</b>, dans un notebook :\n",
    "\n",
    "- la combinaison de touches <kbd>Ctrl</kbd>+<kbd>Entrée</kbd> exécute une cellule.<br>\n",
    "- la combinaison de touches <kbd>Shift</kbd>+<kbd>Entrée</kbd> exécute une cellule puis passe à la suivante. C'est équivalent à cliquer sur l'icone ▶️ dans la barre de menu du notebook.<br>\n",
    "- la combinaison de touches <kbd>Alt</kbd>+<kbd>Entrée</kbd> exécute une cellule puis en crée une nouvelle (vide) en dessous.<br>\n",
    "\n",
    "Pour ajouter une cellule, vous pouvez aussi cliquer sur l'icone ➕ dans la barre de menu du notebook.\n",
    "- vous pouvez déplacer les cellules en les glissant pour les réorganiser les unes en-dessous des autres.<br>\n",
    "- vous pouvez ajouter des commentaires, soit en commençant la ligne par un \"#\" dans une cellule de code (ces lignes ne seront pas éxécutées), soit dans une nouvelle céllule de type Markdown.<br>\n",
    "- vous sélectionner le type de cellule dans le menu en haut de votre Vnotebbok.<br>\n",
    "    - \"Code\" pour entrer des lignes de commande à éxécuter <br>\n",
    "    - \"Markdown pour ajouter du texte balisé qui peut être formatté<br>\n",
    "- pour modifier une cellule ̀Markdown, double-cliquez dessus<br>\n",
    "- attention à la casse des caractères pour les cellules de code<br>\n",
    "- évitez les caractères spéciaux dans les cellules de code<br>\n",
    "    \n",
    "<em>  \n",
    "To make nice html reports with markdown: <a href=\"https://dillinger.io/\" title=\"dillinger.io\">html visualization tool 1</a> or <a href=\"https://stackedit.io/app#\" title=\"stackedit.io\">html visualization tool 2</a>, <a href=\"https://www.tablesgenerator.com/markdown_tables\" title=\"tablesgenerator.com\">to draw nice tables</a>, and the <a href=\"https://medium.com/analytics-vidhya/the-ultimate-markdown-guide-for-jupyter-notebook-d5e5abf728fd\" title=\"Ultimate guide\">Ultimate guide</a>. <br>\n",
    "Further reading on JupyterLab notebooks: <a href=\"https://jupyterlab.readthedocs.io/en/latest/user/notebook.html\" title=\"Jupyter Lab\">Jupyter Lab documentation</a>.<br>\n",
    "Here we are using JupyterLab interface implemented as part of the <a href=\"https://plasmabio.org/\" title=\"plasmabio.org\">Plasmabio</a> project led by Sandrine Caburet, Pierre Poulain and Claire Vandiedonck.\n",
    "</em>    \n",
    "</div>"
   ]
  }
 ],
 "metadata": {
  "kernelspec": {
   "display_name": "Python 3 (ipykernel)",
   "language": "python",
   "name": "python3"
  },
  "language_info": {
   "codemirror_mode": {
    "name": "ipython",
    "version": 3
   },
   "file_extension": ".py",
   "mimetype": "text/x-python",
   "name": "python",
   "nbconvert_exporter": "python",
   "pygments_lexer": "ipython3",
   "version": "3.9.12"
  },
  "toc-autonumbering": false
 },
 "nbformat": 4,
 "nbformat_minor": 4
}
